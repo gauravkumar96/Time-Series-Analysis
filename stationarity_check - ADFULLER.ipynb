{
 "cells": [
  {
   "cell_type": "code",
   "execution_count": 1,
   "id": "f2161985",
   "metadata": {},
   "outputs": [],
   "source": [
    "import yfinance as yf\n",
    "import pandas as pd"
   ]
  },
  {
   "cell_type": "code",
   "execution_count": 4,
   "id": "6609d493",
   "metadata": {},
   "outputs": [
    {
     "name": "stdout",
     "output_type": "stream",
     "text": [
      "[*********************100%***********************]  1 of 1 completed\n"
     ]
    },
    {
     "data": {
      "text/html": [
       "<div>\n",
       "<style scoped>\n",
       "    .dataframe tbody tr th:only-of-type {\n",
       "        vertical-align: middle;\n",
       "    }\n",
       "\n",
       "    .dataframe tbody tr th {\n",
       "        vertical-align: top;\n",
       "    }\n",
       "\n",
       "    .dataframe thead th {\n",
       "        text-align: right;\n",
       "    }\n",
       "</style>\n",
       "<table border=\"1\" class=\"dataframe\">\n",
       "  <thead>\n",
       "    <tr style=\"text-align: right;\">\n",
       "      <th></th>\n",
       "      <th>Open</th>\n",
       "      <th>High</th>\n",
       "      <th>Low</th>\n",
       "      <th>Close</th>\n",
       "      <th>Adj Close</th>\n",
       "      <th>Volume</th>\n",
       "    </tr>\n",
       "    <tr>\n",
       "      <th>Date</th>\n",
       "      <th></th>\n",
       "      <th></th>\n",
       "      <th></th>\n",
       "      <th></th>\n",
       "      <th></th>\n",
       "      <th></th>\n",
       "    </tr>\n",
       "  </thead>\n",
       "  <tbody>\n",
       "    <tr>\n",
       "      <th>2019-12-31</th>\n",
       "      <td>66.505501</td>\n",
       "      <td>66.900002</td>\n",
       "      <td>66.454247</td>\n",
       "      <td>66.850998</td>\n",
       "      <td>66.850998</td>\n",
       "      <td>19236000</td>\n",
       "    </tr>\n",
       "    <tr>\n",
       "      <th>2020-01-02</th>\n",
       "      <td>67.077499</td>\n",
       "      <td>68.406998</td>\n",
       "      <td>67.077499</td>\n",
       "      <td>68.368500</td>\n",
       "      <td>68.368500</td>\n",
       "      <td>28132000</td>\n",
       "    </tr>\n",
       "    <tr>\n",
       "      <th>2020-01-03</th>\n",
       "      <td>67.392998</td>\n",
       "      <td>68.625000</td>\n",
       "      <td>67.277199</td>\n",
       "      <td>68.032997</td>\n",
       "      <td>68.032997</td>\n",
       "      <td>23728000</td>\n",
       "    </tr>\n",
       "    <tr>\n",
       "      <th>2020-01-06</th>\n",
       "      <td>67.500000</td>\n",
       "      <td>69.824997</td>\n",
       "      <td>67.500000</td>\n",
       "      <td>69.710503</td>\n",
       "      <td>69.710503</td>\n",
       "      <td>34646000</td>\n",
       "    </tr>\n",
       "    <tr>\n",
       "      <th>2020-01-07</th>\n",
       "      <td>69.897003</td>\n",
       "      <td>70.149498</td>\n",
       "      <td>69.518997</td>\n",
       "      <td>69.667000</td>\n",
       "      <td>69.667000</td>\n",
       "      <td>30054000</td>\n",
       "    </tr>\n",
       "  </tbody>\n",
       "</table>\n",
       "</div>"
      ],
      "text/plain": [
       "                 Open       High        Low      Close  Adj Close    Volume\n",
       "Date                                                                       \n",
       "2019-12-31  66.505501  66.900002  66.454247  66.850998  66.850998  19236000\n",
       "2020-01-02  67.077499  68.406998  67.077499  68.368500  68.368500  28132000\n",
       "2020-01-03  67.392998  68.625000  67.277199  68.032997  68.032997  23728000\n",
       "2020-01-06  67.500000  69.824997  67.500000  69.710503  69.710503  34646000\n",
       "2020-01-07  69.897003  70.149498  69.518997  69.667000  69.667000  30054000"
      ]
     },
     "execution_count": 4,
     "metadata": {},
     "output_type": "execute_result"
    }
   ],
   "source": [
    "df = yf.download('GOOG', start = '2020-01-01', end = '2022-01-01')\n",
    "df.head()"
   ]
  },
  {
   "cell_type": "code",
   "execution_count": 5,
   "id": "caa79b48",
   "metadata": {},
   "outputs": [
    {
     "data": {
      "text/plain": [
       "<AxesSubplot:xlabel='Date'>"
      ]
     },
     "execution_count": 5,
     "metadata": {},
     "output_type": "execute_result"
    },
    {
     "data": {
      "image/png": "[encoded data removed]",
      "text/plain": [
       "<Figure size 432x288 with 1 Axes>"
      ]
     },
     "metadata": {
      "needs_background": "light"
     },
     "output_type": "display_data"
    }
   ],
   "source": [
    "df['Adj Close'].plot()"
   ]
  },
  {
   "cell_type": "code",
   "execution_count": 6,
   "id": "0446b3e0",
   "metadata": {},
   "outputs": [],
   "source": [
    "# checking the stationary of the Adj Close data\n",
    "\n",
    "from statsmodels.tsa.stattools import adfuller\n",
    "dftest = adfuller(df['Adj Close'],autolag='AIC')"
   ]
  },
  {
   "cell_type": "code",
   "execution_count": 9,
   "id": "c4494798",
   "metadata": {},
   "outputs": [
    {
     "name": "stdout",
     "output_type": "stream",
     "text": [
      "Test Statistic                  -0.054365\n",
      "p-value                          0.953799\n",
      "#lags used                       1.000000\n",
      "number of observations used    504.000000\n",
      "critical value %1%              -3.443392\n",
      "critical value %5%              -2.867292\n",
      "critical value %10%             -2.569833\n",
      "dtype: float64\n"
     ]
    }
   ],
   "source": [
    "dfoutput=pd.Series(dftest[0:4],index=['Test Statistic','p-value','#lags used','number of observations used'])\n",
    "for key,value in dftest[4].items():\n",
    "    dfoutput[f'critical value %{key}']= value\n",
    "print(dfoutput)"
   ]
  },
  {
   "cell_type": "markdown",
   "id": "8da23d44",
   "metadata": {},
   "source": [
    "    As you can see, the p-value is greater than 0.05. You fail to reject the null hypothesis and conclude that the time series is not stationary."
   ]
  },
  {
   "cell_type": "code",
   "execution_count": null,
   "id": "44a629b1",
   "metadata": {},
   "outputs": [],
   "source": []
  }
 ],
 "metadata": {
  "kernelspec": {
   "display_name": "Python 3 (ipykernel)",
   "language": "python",
   "name": "python3"
  },
  "language_info": {
   "codemirror_mode": {
    "name": "ipython",
    "version": 3
   },
   "file_extension": ".py",
   "mimetype": "text/x-python",
   "name": "python",
   "nbconvert_exporter": "python",
   "pygments_lexer": "ipython3",
   "version": "3.10.4"
  }
 },
 "nbformat": 4,
 "nbformat_minor": 5
}
